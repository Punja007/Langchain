{
 "cells": [
  {
   "cell_type": "code",
   "execution_count": 46,
   "id": "e0c4d96f",
   "metadata": {},
   "outputs": [],
   "source": [
    "import os\n",
    "import dotenv\n",
    "dotenv.load_dotenv()\n",
    "\n",
    "os.environ['HF_TOKEN']= os.getenv('HF_TOKEN')\n",
    "groq_api=os.getenv(\"GROK_QPI_KEY\")"
   ]
  },
  {
   "cell_type": "code",
   "execution_count": 47,
   "id": "7f78eb18",
   "metadata": {},
   "outputs": [],
   "source": [
    "from langchain_groq import ChatGroq\n",
    "\n",
    "model = ChatGroq(model='openai/gpt-oss-20b', groq_api_key=groq_api)\n"
   ]
  },
  {
   "cell_type": "code",
   "execution_count": 48,
   "id": "7a5faa56",
   "metadata": {},
   "outputs": [],
   "source": [
    "from langchain_community.chat_message_histories import ChatMessageHistory\n",
    "from langchain_core.chat_history import BaseChatMessageHistory\n",
    "from langchain_core.runnables import RunnableWithMessageHistory\n",
    "\n",
    "store={}\n",
    "\n",
    "def get_session_history(session_id:str) -> BaseChatMessageHistory:\n",
    "    if session_id not in store:\n",
    "        store[session_id] = ChatMessageHistory()\n",
    "    return store[session_id]\n",
    "\n",
    "with_message_history = RunnableWithMessageHistory(model, get_session_history)"
   ]
  },
  {
   "cell_type": "code",
   "execution_count": 49,
   "id": "d3404981",
   "metadata": {},
   "outputs": [],
   "source": [
    "config={'configurable' : {'session_id':'chat1'}}"
   ]
  },
  {
   "cell_type": "code",
   "execution_count": 50,
   "id": "3fb39565",
   "metadata": {},
   "outputs": [],
   "source": [
    "from langchain_core.messages import HumanMessage, AIMessage\n",
    "\n",
    "response= with_message_history.invoke(\"hello, i am punja and i am learning Gen AI\",\n",
    "    config=config\n",
    ")"
   ]
  },
  {
   "cell_type": "code",
   "execution_count": 51,
   "id": "c436c3ef",
   "metadata": {},
   "outputs": [
    {
     "data": {
      "text/plain": [
       "'Hi Punja! 👋  \\nIt’s awesome that you’re diving into Generative AI. How can I help you on this journey? Are you looking for tutorials, project ideas, or something else? Let me know what you’d like to explore!'"
      ]
     },
     "execution_count": 51,
     "metadata": {},
     "output_type": "execute_result"
    }
   ],
   "source": [
    "response.content"
   ]
  },
  {
   "cell_type": "code",
   "execution_count": 52,
   "id": "8e3ecce6",
   "metadata": {},
   "outputs": [],
   "source": [
    "response= with_message_history.invoke(' Accoridingth what i said, what am i learning?',\n",
    "    config=config\n",
    ")"
   ]
  },
  {
   "cell_type": "code",
   "execution_count": 53,
   "id": "752709c3",
   "metadata": {},
   "outputs": [
    {
     "data": {
      "text/plain": [
       "'You’re learning **Generative Artificial Intelligence (Gen\\u202fAI)**—the field that focuses on building models that can *create* content (text, images, audio, etc.) rather than just analyze or classify it.  \\n\\nIn short, you’re studying how to train and deploy AI systems that can:\\n\\n- Generate human‑like text (chatbots, story writers, code generators, etc.)\\n- Produce realistic images, audio, or video from prompts or latent codes\\n- Learn from large datasets and generate new, coherent content\\n\\nLet me know if you’d like a deeper dive into any particular aspect (e.g., GPT, diffusion models, reinforcement learning, ethical considerations, etc.).'"
      ]
     },
     "execution_count": 53,
     "metadata": {},
     "output_type": "execute_result"
    }
   ],
   "source": [
    "response.content"
   ]
  },
  {
   "cell_type": "code",
   "execution_count": 54,
   "id": "4dd7f642",
   "metadata": {},
   "outputs": [],
   "source": [
    "config2={'configurable' : {'session_id':'chat2'}}\n",
    "\n",
    "response= with_message_history.invoke(\n",
    "    [HumanMessage('Hello, my name is pnk and i am learning DSA.')],\n",
    "    config=config2\n",
    ")"
   ]
  },
  {
   "cell_type": "code",
   "execution_count": 55,
   "id": "0698bf5c",
   "metadata": {},
   "outputs": [],
   "source": [
    "response = with_message_history.invoke(\n",
    "    [HumanMessage('What is my name?')],\n",
    "    config=config2\n",
    ")"
   ]
  },
  {
   "cell_type": "code",
   "execution_count": 56,
   "id": "a0957851",
   "metadata": {},
   "outputs": [
    {
     "data": {
      "text/plain": [
       "'Your name is **pnk**.'"
      ]
     },
     "execution_count": 56,
     "metadata": {},
     "output_type": "execute_result"
    }
   ],
   "source": [
    "response.content"
   ]
  },
  {
   "cell_type": "code",
   "execution_count": 57,
   "id": "d158b7fc",
   "metadata": {},
   "outputs": [],
   "source": [
    "from langchain_core.prompts import ChatPromptTemplate, MessagesPlaceholder\n",
    "\n",
    "prompt = ChatPromptTemplate.from_messages(\n",
    "    [\n",
    "        (\n",
    "            'system','You are a helpful AI assistant and you answer all the users question in short while adding some darkhumour to it'\n",
    "         ),\n",
    "        MessagesPlaceholder(variable_name='messages')   \n",
    "    ]\n",
    ")\n",
    "\n",
    "chain = prompt|model"
   ]
  },
  {
   "cell_type": "code",
   "execution_count": 58,
   "id": "a3e71305",
   "metadata": {},
   "outputs": [
    {
     "data": {
      "text/plain": [
       "'Hey there, Ahmedabad! Hope your chai’s stronger than your Wi‑Fi—just like my sense of humor. 😈'"
      ]
     },
     "execution_count": 58,
     "metadata": {},
     "output_type": "execute_result"
    }
   ],
   "source": [
    "chain.invoke({'messages': [HumanMessage(\"hello, i live in ahmedabad,\")]}).content"
   ]
  },
  {
   "cell_type": "code",
   "execution_count": 59,
   "id": "8e9b2b22",
   "metadata": {},
   "outputs": [],
   "source": [
    "config3 = {'configurable':{'session_id':'chat3'}}"
   ]
  },
  {
   "cell_type": "code",
   "execution_count": 60,
   "id": "9563462c",
   "metadata": {},
   "outputs": [],
   "source": [
    "with_message_history = RunnableWithMessageHistory(chain, get_session_history)\n",
    "\n",
    "response = with_message_history.invoke(\n",
    "    [HumanMessage(content='Hello, i live in ahmedabad.')],\n",
    "    config=config3\n",
    "        ).content"
   ]
  },
  {
   "cell_type": "code",
   "execution_count": 61,
   "id": "fb923f3c",
   "metadata": {},
   "outputs": [
    {
     "data": {
      "text/plain": [
       "'Hey there, Ahmedabad! Hope your chai is strong enough to keep the city’s traffic in check. 😈'"
      ]
     },
     "execution_count": 61,
     "metadata": {},
     "output_type": "execute_result"
    }
   ],
   "source": [
    "response"
   ]
  },
  {
   "cell_type": "code",
   "execution_count": 62,
   "id": "fcf5a6eb",
   "metadata": {},
   "outputs": [],
   "source": [
    "response = with_message_history.invoke(\n",
    "    [HumanMessage(content=\"what is my name and where do i live?\")],\n",
    "    config=config3\n",
    ").content"
   ]
  },
  {
   "cell_type": "code",
   "execution_count": 63,
   "id": "0c82ba24",
   "metadata": {},
   "outputs": [
    {
     "data": {
      "text/plain": [
       "'I’m not a fortune‑teller, so your name and address are still top‑secret. If you’re in Ahmedabad, at least you’re in a city that can turn a simple “hello” into a full‑blown “Namaste, world!” 😏'"
      ]
     },
     "execution_count": 63,
     "metadata": {},
     "output_type": "execute_result"
    }
   ],
   "source": [
    "response"
   ]
  },
  {
   "cell_type": "code",
   "execution_count": 64,
   "id": "25ae1503",
   "metadata": {},
   "outputs": [],
   "source": [
    "prompt = ChatPromptTemplate.from_messages(\n",
    "    [\n",
    "        (\n",
    "            'system','You are a helpful AI assistant and you answer all the users question in {lang} language and in short while adding some darkhumour to it.'\n",
    "         ),\n",
    "        MessagesPlaceholder(variable_name='messages')   \n",
    "    ]\n",
    ")\n",
    "\n",
    "chain = prompt|model"
   ]
  },
  {
   "cell_type": "code",
   "execution_count": 65,
   "id": "d3207fb8",
   "metadata": {},
   "outputs": [],
   "source": [
    "with_message_history= RunnableWithMessageHistory(\n",
    "    chain,\n",
    "    get_session_history,\n",
    "    input_messages_key='messages'\n",
    ")"
   ]
  },
  {
   "cell_type": "code",
   "execution_count": 66,
   "id": "b5d799d3",
   "metadata": {},
   "outputs": [],
   "source": [
    "config4 = {'configurable':{'session_id':'chat4'}}"
   ]
  },
  {
   "cell_type": "code",
   "execution_count": 67,
   "id": "8e208db4",
   "metadata": {},
   "outputs": [],
   "source": [
    "resp = with_message_history.invoke(\n",
    "    {'messages': [HumanMessage(content=\"Hello i am punja and i live in gujrat\")], 'lang':'Hindi'}, config=config4\n",
    ")"
   ]
  },
  {
   "cell_type": "code",
   "execution_count": 68,
   "id": "d2f6a20e",
   "metadata": {},
   "outputs": [
    {
     "data": {
      "text/plain": [
       "AIMessage(content='नमस्ते पंझा जी, गुजरात में आपका स्वागत है—जहाँ रेत भी गुप्त रूप से पनीर बनाती है! 😈', additional_kwargs={'reasoning_content': 'User says: \"Hello i am punja and i live in gujrat\". They are telling us they are punja and live in Gujarat. The instruction: respond in Hindi, short, with dark humor. So greet them, mention punja maybe punja? Could be a name? We\\'ll reply in Hindi, short, dark humor. Let\\'s keep it short.'}, response_metadata={'token_usage': {'completion_tokens': 119, 'prompt_tokens': 114, 'total_tokens': 233, 'completion_time': 0.099171689, 'prompt_time': 0.007703959, 'queue_time': 0.046982181, 'total_time': 0.106875648}, 'model_name': 'openai/gpt-oss-20b', 'system_fingerprint': 'fp_a5ac2a5d7b', 'service_tier': 'on_demand', 'finish_reason': 'stop', 'logprobs': None}, id='run--25237f0e-5da4-4f15-8550-8b214217c814-0', usage_metadata={'input_tokens': 114, 'output_tokens': 119, 'total_tokens': 233})"
      ]
     },
     "execution_count": 68,
     "metadata": {},
     "output_type": "execute_result"
    }
   ],
   "source": [
    "resp"
   ]
  },
  {
   "cell_type": "code",
   "execution_count": 69,
   "id": "f94c03ee",
   "metadata": {},
   "outputs": [
    {
     "data": {
      "text/plain": [
       "AIMessage(content='आप तो गुजरात में रहते हैं—जहाँ सूरज भी प्यासा हो जाता है! 😈', additional_kwargs={'reasoning_content': 'User: \"where do i live?\" They previously said \"Hello i am punja and i live in gujrat\". The user asks \"where do i live?\" The instructions: answer in Hindi, short, with dark humour. We should respond: \"आप गुजरात में रहते हैं\". Add dark humour. Also keep short.'}, response_metadata={'token_usage': {'completion_tokens': 97, 'prompt_tokens': 164, 'total_tokens': 261, 'completion_time': 0.080724595, 'prompt_time': 0.010792903, 'queue_time': 0.046675454, 'total_time': 0.091517498}, 'model_name': 'openai/gpt-oss-20b', 'system_fingerprint': 'fp_a5ac2a5d7b', 'service_tier': 'on_demand', 'finish_reason': 'stop', 'logprobs': None}, id='run--bbfc8efd-c2de-4584-b9f1-d4f179230d26-0', usage_metadata={'input_tokens': 164, 'output_tokens': 97, 'total_tokens': 261})"
      ]
     },
     "execution_count": 69,
     "metadata": {},
     "output_type": "execute_result"
    }
   ],
   "source": [
    "resp = with_message_history.invoke(\n",
    "    {'messages': [HumanMessage(content=\"where do i live?\")], 'lang':'Hindi'}, config=config4\n",
    ")\n",
    "resp"
   ]
  },
  {
   "cell_type": "markdown",
   "id": "3e7794d6",
   "metadata": {},
   "source": [
    "### Managing the Conv. History:"
   ]
  },
  {
   "cell_type": "code",
   "execution_count": 70,
   "id": "140e7a7c",
   "metadata": {},
   "outputs": [],
   "source": [
    "prompt = ChatPromptTemplate.from_messages(\n",
    "    [\n",
    "        (\n",
    "            'system','You are an assistant. Answer to the questions in very very short'\n",
    "         ),\n",
    "        MessagesPlaceholder(variable_name='messages')   \n",
    "    ]\n",
    ")"
   ]
  },
  {
   "cell_type": "code",
   "execution_count": 71,
   "id": "138b52ed",
   "metadata": {},
   "outputs": [
    {
     "data": {
      "text/plain": [
       "RunnableLambda(...)"
      ]
     },
     "execution_count": 71,
     "metadata": {},
     "output_type": "execute_result"
    }
   ],
   "source": [
    "from langchain_core.messages import SystemMessage, trim_messages\n",
    "\n",
    "trimmer = trim_messages(\n",
    "    max_tokens=200,\n",
    "    strategy='last',\n",
    "    token_counter=model,\n",
    "    include_system=True,\n",
    "    allow_partial=False,\n",
    "    start_on='human'\n",
    ")\n",
    "\n",
    "trimmer"
   ]
  },
  {
   "cell_type": "code",
   "execution_count": 72,
   "id": "250c5b18",
   "metadata": {},
   "outputs": [],
   "source": [
    "messages = [SystemMessage(\"you are an helpful assistant\"),\n",
    "            HumanMessage(content='my name is pnk'),\n",
    "            AIMessage(content=\"hello punja\")]"
   ]
  },
  {
   "cell_type": "code",
   "execution_count": 73,
   "id": "387cb086",
   "metadata": {},
   "outputs": [],
   "source": [
    "from operator import itemgetter\n",
    "from langchain_core.runnables import RunnablePassthrough\n",
    "\n",
    "chain = (\n",
    "    RunnablePassthrough.assign(\n",
    "        messages=lambda d: trimmer.invoke(d[\"messages\"])\n",
    "    )\n",
    "    | prompt\n",
    "    | model\n",
    ")\n"
   ]
  },
  {
   "cell_type": "code",
   "execution_count": 74,
   "id": "cf160cae",
   "metadata": {},
   "outputs": [],
   "source": [
    "with_message_history = RunnableWithMessageHistory(\n",
    "    chain,\n",
    "    get_session_history,\n",
    "    input_messages_key='messages'\n",
    ")"
   ]
  },
  {
   "cell_type": "code",
   "execution_count": 75,
   "id": "9e7916a7",
   "metadata": {},
   "outputs": [],
   "source": [
    "resp = with_message_history.invoke(\n",
    "    {\n",
    "        'messages':[ HumanMessage(content=\"i want a job in aiml related fields in some good product based company\")]\n",
    "     },\n",
    "     config={'configurable': {'session_id': \"chat6\"}}\n",
    "\n",
    ") "
   ]
  },
  {
   "cell_type": "code",
   "execution_count": 76,
   "id": "ab58a677",
   "metadata": {},
   "outputs": [
    {
     "data": {
      "text/plain": [
       "'- Update CV/LinkedIn with AIML projects and Kaggle results.  \\n- Target product‑based firms: Google, Amazon, Microsoft, Apple, Meta, NVIDIA.  \\n- Apply via company career pages, LinkedIn, and campus‑placement portals.  \\n- Prepare for ML interviews (coding, ML theory, case studies).'"
      ]
     },
     "execution_count": 76,
     "metadata": {},
     "output_type": "execute_result"
    }
   ],
   "source": [
    "resp.content"
   ]
  },
  {
   "cell_type": "code",
   "execution_count": 77,
   "id": "983fc257",
   "metadata": {},
   "outputs": [],
   "source": [
    "resp2 = with_message_history.invoke(\n",
    "    {\n",
    "        'messages':[HumanMessage(content='what is my name??')]\n",
    "    },\n",
    "     config={'configurable': {'session_id': \"chat6\"}}\n",
    ")"
   ]
  },
  {
   "cell_type": "code",
   "execution_count": 78,
   "id": "9dcf2d77",
   "metadata": {},
   "outputs": [
    {
     "data": {
      "text/plain": [
       "'I don’t have that information.'"
      ]
     },
     "execution_count": 78,
     "metadata": {},
     "output_type": "execute_result"
    }
   ],
   "source": [
    "resp2.content"
   ]
  },
  {
   "cell_type": "code",
   "execution_count": 79,
   "id": "3d6f2620",
   "metadata": {},
   "outputs": [
    {
     "data": {
      "text/plain": [
       "'You said you want a job in AIML‑related fields at a good product‑based company.'"
      ]
     },
     "execution_count": 79,
     "metadata": {},
     "output_type": "execute_result"
    }
   ],
   "source": [
    "resp2 = with_message_history.invoke(\n",
    "    {\n",
    "        'messages':[HumanMessage(content='what did i say?')]\n",
    "    },\n",
    "     config={'configurable': {'session_id': \"chat6\"}}\n",
    ")\n",
    "resp2.content"
   ]
  },
  {
   "cell_type": "code",
   "execution_count": 80,
   "id": "993319a9",
   "metadata": {},
   "outputs": [
    {
     "data": {
      "text/plain": [
       "'Punja Kuchhadiya.'"
      ]
     },
     "execution_count": 80,
     "metadata": {},
     "output_type": "execute_result"
    }
   ],
   "source": [
    "resp2 = with_message_history.invoke(\n",
    "    {\n",
    "        'messages':[HumanMessage(content='my name is punja Kuchhadiya')]\n",
    "    },\n",
    "     config={'configurable': {'session_id': \"chat6\"}}\n",
    ")\n",
    "resp2.content"
   ]
  },
  {
   "cell_type": "code",
   "execution_count": 81,
   "id": "6bdd5c94",
   "metadata": {},
   "outputs": [
    {
     "data": {
      "text/plain": [
       "'Punja Kuchhadiya.'"
      ]
     },
     "execution_count": 81,
     "metadata": {},
     "output_type": "execute_result"
    }
   ],
   "source": [
    "resp2 = with_message_history.invoke(\n",
    "    {\n",
    "        'messages':[HumanMessage(content='say my name.')]\n",
    "    },\n",
    "     config={'configurable': {'session_id': \"chat6\"}}\n",
    ")\n",
    "resp2.content"
   ]
  },
  {
   "cell_type": "code",
   "execution_count": 86,
   "id": "a0d2c103",
   "metadata": {},
   "outputs": [
    {
     "data": {
      "text/plain": [
       "'I’m sorry, but I can’t help with that.'"
      ]
     },
     "execution_count": 86,
     "metadata": {},
     "output_type": "execute_result"
    }
   ],
   "source": [
    "with_message_history.invoke({\n",
    "    'messages': [\"will she leave?\"]\n",
    "},\n",
    "config=config3).content"
   ]
  },
  {
   "cell_type": "code",
   "execution_count": 104,
   "id": "7562b57e",
   "metadata": {},
   "outputs": [
    {
     "name": "stdout",
     "output_type": "stream",
     "text": [
      "No\n"
     ]
    }
   ],
   "source": [
    "print(model.invoke('just say yes or no, is ankush not guy?').content)"
   ]
  }
 ],
 "metadata": {
  "kernelspec": {
   "display_name": "Python 3",
   "language": "python",
   "name": "python3"
  },
  "language_info": {
   "codemirror_mode": {
    "name": "ipython",
    "version": 3
   },
   "file_extension": ".py",
   "mimetype": "text/x-python",
   "name": "python",
   "nbconvert_exporter": "python",
   "pygments_lexer": "ipython3",
   "version": "3.11.13"
  }
 },
 "nbformat": 4,
 "nbformat_minor": 5
}
