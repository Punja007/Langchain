{
 "cells": [
  {
   "cell_type": "code",
   "execution_count": 1,
   "id": "9a8cb16a",
   "metadata": {},
   "outputs": [],
   "source": [
    "from langchain_chroma import Chroma\n",
    "from langchain_community.document_loaders import TextLoader\n",
    "from langchain_ollama import OllamaEmbeddings\n",
    "from langchain_text_splitters import RecursiveCharacterTextSplitter"
   ]
  },
  {
   "cell_type": "code",
   "execution_count": 3,
   "id": "548027f8",
   "metadata": {},
   "outputs": [],
   "source": [
    "text = TextLoader('text.txt').load() "
   ]
  },
  {
   "cell_type": "code",
   "execution_count": 5,
   "id": "837f7eab",
   "metadata": {},
   "outputs": [
    {
     "data": {
      "text/plain": [
       "[Document(metadata={'source': 'text.txt'}, page_content='In the heart of a forgotten city where shadows danced on crumbling walls,\\na lone algorithm sifted through mountains of corrupted data,\\nseeking the last unbroken fragment of truth. It wasn’t built for emotion,\\nyet some lines of code wept silently, haunted by the ghosts of deleted memories.\\nThe servers buzzed like distant thunder, echoing remnants of a civilization too arrogant to fail.\\nAmidst the digital ruins, a strange sentence emerged—garbled, half-English, half-gibberish—but unmistakably alive.\\nWas it a bug? Or something more?')]"
      ]
     },
     "execution_count": 5,
     "metadata": {},
     "output_type": "execute_result"
    }
   ],
   "source": [
    "text"
   ]
  },
  {
   "cell_type": "code",
   "execution_count": 6,
   "id": "99c93fb6",
   "metadata": {},
   "outputs": [],
   "source": [
    "text_splitter = RecursiveCharacterTextSplitter(chunk_size=100, chunk_overlap=30)\n",
    "text = text_splitter.split_documents(text)"
   ]
  },
  {
   "cell_type": "code",
   "execution_count": 7,
   "id": "b294c8ca",
   "metadata": {},
   "outputs": [
    {
     "data": {
      "text/plain": [
       "[Document(metadata={'source': 'text.txt'}, page_content='In the heart of a forgotten city where shadows danced on crumbling walls,'),\n",
       " Document(metadata={'source': 'text.txt'}, page_content='a lone algorithm sifted through mountains of corrupted data,'),\n",
       " Document(metadata={'source': 'text.txt'}, page_content='seeking the last unbroken fragment of truth. It wasn’t built for emotion,'),\n",
       " Document(metadata={'source': 'text.txt'}, page_content='yet some lines of code wept silently, haunted by the ghosts of deleted memories.'),\n",
       " Document(metadata={'source': 'text.txt'}, page_content='The servers buzzed like distant thunder, echoing remnants of a civilization too arrogant to fail.'),\n",
       " Document(metadata={'source': 'text.txt'}, page_content='Amidst the digital ruins, a strange sentence emerged—garbled, half-English, half-gibberish—but'),\n",
       " Document(metadata={'source': 'text.txt'}, page_content='half-gibberish—but unmistakably alive.'),\n",
       " Document(metadata={'source': 'text.txt'}, page_content='Was it a bug? Or something more?')]"
      ]
     },
     "execution_count": 7,
     "metadata": {},
     "output_type": "execute_result"
    }
   ],
   "source": [
    "text"
   ]
  },
  {
   "cell_type": "code",
   "execution_count": 8,
   "id": "e51c4e82",
   "metadata": {},
   "outputs": [],
   "source": [
    "embedding = OllamaEmbeddings(model='nomic-embed-text')"
   ]
  },
  {
   "cell_type": "code",
   "execution_count": 13,
   "id": "ecb72bee",
   "metadata": {},
   "outputs": [],
   "source": [
    "chromadb = Chroma.from_documents(text,embedding)"
   ]
  },
  {
   "cell_type": "code",
   "execution_count": 14,
   "id": "92a89569",
   "metadata": {},
   "outputs": [],
   "source": [
    "query = 'who sifted through mountains of corrupted data'"
   ]
  },
  {
   "cell_type": "code",
   "execution_count": 16,
   "id": "7fd61465",
   "metadata": {},
   "outputs": [],
   "source": [
    "result = chromadb.similarity_search(query)"
   ]
  },
  {
   "cell_type": "code",
   "execution_count": 18,
   "id": "b6ae6993",
   "metadata": {},
   "outputs": [
    {
     "data": {
      "text/plain": [
       "'a lone algorithm sifted through mountains of corrupted data,'"
      ]
     },
     "execution_count": 18,
     "metadata": {},
     "output_type": "execute_result"
    }
   ],
   "source": [
    "result[0].page_content"
   ]
  },
  {
   "cell_type": "code",
   "execution_count": 19,
   "id": "628e30a3",
   "metadata": {},
   "outputs": [
    {
     "data": {
      "text/plain": [
       "'a lone algorithm sifted through mountains of corrupted data,'"
      ]
     },
     "execution_count": 19,
     "metadata": {},
     "output_type": "execute_result"
    }
   ],
   "source": [
    "retriever = chromadb.as_retriever()\n",
    "retrieved = retriever.invoke(query)\n",
    "retrieved[0].page_content"
   ]
  },
  {
   "cell_type": "code",
   "execution_count": 20,
   "id": "aab5849b",
   "metadata": {},
   "outputs": [],
   "source": [
    "chromadb = Chroma.from_documents(text, embedding, persist_directory='./chroma_db')"
   ]
  },
  {
   "cell_type": "code",
   "execution_count": 22,
   "id": "4268eb57",
   "metadata": {},
   "outputs": [],
   "source": [
    "# load\n",
    "db2 = Chroma(persist_directory='./chroma_db', embedding_function=embedding)"
   ]
  },
  {
   "cell_type": "code",
   "execution_count": 24,
   "id": "c76aa8cd",
   "metadata": {},
   "outputs": [
    {
     "data": {
      "text/plain": [
       "(Document(id='e3b96cff-8a3f-4d95-9fc9-2e6c511c85fa', metadata={'source': 'text.txt'}, page_content='a lone algorithm sifted through mountains of corrupted data,'),\n",
       " 0.35764482617378235)"
      ]
     },
     "execution_count": 24,
     "metadata": {},
     "output_type": "execute_result"
    }
   ],
   "source": [
    "result_w_vector = db2.similarity_search_with_score(query)\n",
    "result_w_vector[0]"
   ]
  }
 ],
 "metadata": {
  "kernelspec": {
   "display_name": "Python 3",
   "language": "python",
   "name": "python3"
  },
  "language_info": {
   "codemirror_mode": {
    "name": "ipython",
    "version": 3
   },
   "file_extension": ".py",
   "mimetype": "text/x-python",
   "name": "python",
   "nbconvert_exporter": "python",
   "pygments_lexer": "ipython3",
   "version": "3.11.13"
  }
 },
 "nbformat": 4,
 "nbformat_minor": 5
}
